{
 "cells": [
  {
   "cell_type": "code",
   "execution_count": 5,
   "id": "2382f7db-cf84-4aa1-9005-40d0a377ae2a",
   "metadata": {},
   "outputs": [
    {
     "data": {
      "text/html": [
       "<div>\n",
       "<style scoped>\n",
       "    .dataframe tbody tr th:only-of-type {\n",
       "        vertical-align: middle;\n",
       "    }\n",
       "\n",
       "    .dataframe tbody tr th {\n",
       "        vertical-align: top;\n",
       "    }\n",
       "\n",
       "    .dataframe thead th {\n",
       "        text-align: right;\n",
       "    }\n",
       "</style>\n",
       "<table border=\"1\" class=\"dataframe\">\n",
       "  <thead>\n",
       "    <tr style=\"text-align: right;\">\n",
       "      <th></th>\n",
       "      <th>Student ID</th>\n",
       "      <th>student_name</th>\n",
       "      <th>gender</th>\n",
       "      <th>grade</th>\n",
       "      <th>school_name</th>\n",
       "      <th>reading_score</th>\n",
       "      <th>math_score</th>\n",
       "      <th>School ID</th>\n",
       "      <th>type</th>\n",
       "      <th>size</th>\n",
       "      <th>budget</th>\n",
       "    </tr>\n",
       "  </thead>\n",
       "  <tbody>\n",
       "    <tr>\n",
       "      <th>0</th>\n",
       "      <td>0</td>\n",
       "      <td>Paul Bradley</td>\n",
       "      <td>M</td>\n",
       "      <td>9th</td>\n",
       "      <td>Huang High School</td>\n",
       "      <td>66</td>\n",
       "      <td>79</td>\n",
       "      <td>0</td>\n",
       "      <td>District</td>\n",
       "      <td>2917</td>\n",
       "      <td>1910635</td>\n",
       "    </tr>\n",
       "    <tr>\n",
       "      <th>1</th>\n",
       "      <td>1</td>\n",
       "      <td>Victor Smith</td>\n",
       "      <td>M</td>\n",
       "      <td>12th</td>\n",
       "      <td>Huang High School</td>\n",
       "      <td>94</td>\n",
       "      <td>61</td>\n",
       "      <td>0</td>\n",
       "      <td>District</td>\n",
       "      <td>2917</td>\n",
       "      <td>1910635</td>\n",
       "    </tr>\n",
       "    <tr>\n",
       "      <th>2</th>\n",
       "      <td>2</td>\n",
       "      <td>Kevin Rodriguez</td>\n",
       "      <td>M</td>\n",
       "      <td>12th</td>\n",
       "      <td>Huang High School</td>\n",
       "      <td>90</td>\n",
       "      <td>60</td>\n",
       "      <td>0</td>\n",
       "      <td>District</td>\n",
       "      <td>2917</td>\n",
       "      <td>1910635</td>\n",
       "    </tr>\n",
       "    <tr>\n",
       "      <th>3</th>\n",
       "      <td>3</td>\n",
       "      <td>Dr. Richard Scott</td>\n",
       "      <td>M</td>\n",
       "      <td>12th</td>\n",
       "      <td>Huang High School</td>\n",
       "      <td>67</td>\n",
       "      <td>58</td>\n",
       "      <td>0</td>\n",
       "      <td>District</td>\n",
       "      <td>2917</td>\n",
       "      <td>1910635</td>\n",
       "    </tr>\n",
       "    <tr>\n",
       "      <th>4</th>\n",
       "      <td>4</td>\n",
       "      <td>Bonnie Ray</td>\n",
       "      <td>F</td>\n",
       "      <td>9th</td>\n",
       "      <td>Huang High School</td>\n",
       "      <td>97</td>\n",
       "      <td>84</td>\n",
       "      <td>0</td>\n",
       "      <td>District</td>\n",
       "      <td>2917</td>\n",
       "      <td>1910635</td>\n",
       "    </tr>\n",
       "  </tbody>\n",
       "</table>\n",
       "</div>"
      ],
      "text/plain": [
       "   Student ID       student_name gender grade        school_name  \\\n",
       "0           0       Paul Bradley      M   9th  Huang High School   \n",
       "1           1       Victor Smith      M  12th  Huang High School   \n",
       "2           2    Kevin Rodriguez      M  12th  Huang High School   \n",
       "3           3  Dr. Richard Scott      M  12th  Huang High School   \n",
       "4           4         Bonnie Ray      F   9th  Huang High School   \n",
       "\n",
       "   reading_score  math_score  School ID      type  size   budget  \n",
       "0             66          79          0  District  2917  1910635  \n",
       "1             94          61          0  District  2917  1910635  \n",
       "2             90          60          0  District  2917  1910635  \n",
       "3             67          58          0  District  2917  1910635  \n",
       "4             97          84          0  District  2917  1910635  "
      ]
     },
     "execution_count": 5,
     "metadata": {},
     "output_type": "execute_result"
    }
   ],
   "source": [
    "# Dependencies and Setup\n",
    "import pandas as pd\n",
    "from pathlib import Path\n",
    "\n",
    "# File to Load (Remember to Change These)\n",
    "schools_complete = Path(\"schools_complete.csv\")\n",
    "students_complete = Path(\"students_complete.csv\")\n",
    "\n",
    "# Read School and Student Data File and store into Pandas DataFrames\n",
    "schools_data = pd.read_csv(schools_complete)\n",
    "students_data = pd.read_csv(students_complete)\n",
    "\n",
    "# Combine the data into a single dataset.\n",
    "school_data_complete = pd.merge(students_data, schools_data, how=\"left\", on=[\"school_name\", \"school_name\"])\n",
    "school_data_complete.head()\n"
   ]
  },
  {
   "cell_type": "code",
   "execution_count": 6,
   "id": "c3d3c631-9cc5-40a3-9465-f141579fb23d",
   "metadata": {},
   "outputs": [
    {
     "name": "stdout",
     "output_type": "stream",
     "text": [
      "Number of unique schools: 15\n"
     ]
    }
   ],
   "source": [
    "num_unique_schools = school_data_complete['school_name'].nunique()\n",
    "print(\"Number of unique schools:\", num_unique_schools)"
   ]
  },
  {
   "cell_type": "code",
   "execution_count": 13,
   "id": "2294aa37-c2cf-4cf7-b151-f50044ef4f42",
   "metadata": {},
   "outputs": [
    {
     "name": "stdout",
     "output_type": "stream",
     "text": [
      "Total number of students: 39170\n"
     ]
    }
   ],
   "source": [
    "total_students = school_data_complete['student_name'].count()\n",
    "print(\"Total number of students:\", total_students)"
   ]
  },
  {
   "cell_type": "code",
   "execution_count": 14,
   "id": "da61cf6a-dc67-43a5-a73c-8736aef6b3d6",
   "metadata": {},
   "outputs": [
    {
     "name": "stdout",
     "output_type": "stream",
     "text": [
      "Total budget: 82932329558\n"
     ]
    }
   ],
   "source": [
    "budget = school_data_complete['budget'].sum()\n",
    "print(\"Total budget:\", budget)"
   ]
  },
  {
   "cell_type": "code",
   "execution_count": 20,
   "id": "1eb341b9-c74b-4174-8167-edc8458f68fd",
   "metadata": {},
   "outputs": [
    {
     "name": "stdout",
     "output_type": "stream",
     "text": [
      "Per student budget 2117240.99\n"
     ]
    }
   ],
   "source": [
    "budget_p_student = budget/total_students\n",
    "budget_p_student = round(budget_p_student, 2)\n",
    "print(\"Per student budget:\" , budget_p_student)"
   ]
  },
  {
   "cell_type": "code",
   "execution_count": 22,
   "id": "fd65fa5e-d368-4f4f-a8c5-7d4b61b2a7e1",
   "metadata": {},
   "outputs": [
    {
     "name": "stdout",
     "output_type": "stream",
     "text": [
      "Average math score: 78.99\n"
     ]
    }
   ],
   "source": [
    "total_math = school_data_complete['math_score'].sum()\n",
    "ave_math = total_math/total_students\n",
    "ave_math = round(ave_math,2)\n",
    "print(\"Average math score:\",ave_math)"
   ]
  },
  {
   "cell_type": "code",
   "execution_count": 23,
   "id": "46577317-755a-43c0-9556-86049654802f",
   "metadata": {},
   "outputs": [
    {
     "name": "stdout",
     "output_type": "stream",
     "text": [
      "Average math score: 81.88\n"
     ]
    }
   ],
   "source": [
    "total_reading = school_data_complete['reading_score'].sum()\n",
    "ave_reading = total_reading/total_students\n",
    "ave_reading = round(ave_reading,2)\n",
    "print(\"Average math score:\",ave_reading)"
   ]
  },
  {
   "cell_type": "code",
   "execution_count": 39,
   "id": "b7de7d7d-05ff-4e1e-b064-e7a530edef6d",
   "metadata": {},
   "outputs": [
    {
     "name": "stdout",
     "output_type": "stream",
     "text": [
      "Percentage of students passing math: 0.91\n"
     ]
    }
   ],
   "source": [
    "pass_math = (school_data_complete['math_score'] > 60).sum()\n",
    "per_pass_math = pass_math / total_students\n",
    "per_pass_math = round(per_pass_math, 2)\n",
    "print(\"Percentage of students passing math:\", per_pass_math)"
   ]
  },
  {
   "cell_type": "code",
   "execution_count": 33,
   "id": "e0224607-861b-4db6-8ad9-f2a25e712921",
   "metadata": {},
   "outputs": [
    {
     "data": {
      "text/plain": [
       "('Percentage of students passing math:', 1.0)"
      ]
     },
     "execution_count": 33,
     "metadata": {},
     "output_type": "execute_result"
    }
   ],
   "source": [
    "pass_reading = (school_data_complete['reading_score'] > 60).sum()\n",
    "per_pass_reading = pass_reading / total_students\n",
    "per_pass_reading = round(per_pass_reading, 2)\n",
    "print(\"Percentage of students passing reading:\", per_pass_reading)"
   ]
  },
  {
   "cell_type": "code",
   "execution_count": 41,
   "id": "aac16e34-787e-4b56-ab04-94ce96c9975b",
   "metadata": {},
   "outputs": [
    {
     "name": "stdout",
     "output_type": "stream",
     "text": [
      "0.91\n"
     ]
    }
   ],
   "source": [
    "total_pass = ((school_data_complete['math_score'] > 60) & (school_data_complete['reading_score']>60)).sum()\n",
    "per_pass = total_pass/total_students\n",
    "per_pass = round(per_pass,2)\n",
    "print(per_pass)"
   ]
  },
  {
   "cell_type": "code",
   "execution_count": 47,
   "id": "f95d7db8-f950-48cf-890f-f58de2c11a77",
   "metadata": {},
   "outputs": [
    {
     "name": "stdout",
     "output_type": "stream",
     "text": [
      "   Total number of unique schools  Total students  Total budget  \\\n",
      "0                              15           39170   82932329558   \n",
      "\n",
      "   Average math score  Average reading score  % passing math  \\\n",
      "0               78.99                  81.88            0.91   \n",
      "\n",
      "   % passing reading  % overall passing  \n",
      "0                1.0               0.91  \n"
     ]
    }
   ],
   "source": [
    "district_sum_df = pd.DataFrame({'Total number of unique schools': [num_unique_schools],'Total students': [total_students],'Total budget': [budget],'Average math score': [ave_math],'Average reading score': [ave_reading],'% passing math': [per_pass_math],'% passing reading': [per_pass_reading],'% overall passing': [per_pass]})\n",
    "\n",
    "# Display the DataFrame\n",
    "print(district_sum_df)"
   ]
  },
  {
   "cell_type": "code",
   "execution_count": null,
   "id": "faff7cc6-a0e7-473e-9df5-ecb958416289",
   "metadata": {},
   "outputs": [],
   "source": []
  }
 ],
 "metadata": {
  "kernelspec": {
   "display_name": "Python 3 (ipykernel)",
   "language": "python",
   "name": "python3"
  },
  "language_info": {
   "codemirror_mode": {
    "name": "ipython",
    "version": 3
   },
   "file_extension": ".py",
   "mimetype": "text/x-python",
   "name": "python",
   "nbconvert_exporter": "python",
   "pygments_lexer": "ipython3",
   "version": "3.12.2"
  }
 },
 "nbformat": 4,
 "nbformat_minor": 5
}
