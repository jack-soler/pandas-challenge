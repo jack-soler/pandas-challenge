{
 "cells": [
  {
   "cell_type": "code",
   "execution_count": 95,
   "id": "2382f7db-cf84-4aa1-9005-40d0a377ae2a",
   "metadata": {},
   "outputs": [
    {
     "data": {
      "text/html": [
       "<div>\n",
       "<style scoped>\n",
       "    .dataframe tbody tr th:only-of-type {\n",
       "        vertical-align: middle;\n",
       "    }\n",
       "\n",
       "    .dataframe tbody tr th {\n",
       "        vertical-align: top;\n",
       "    }\n",
       "\n",
       "    .dataframe thead th {\n",
       "        text-align: right;\n",
       "    }\n",
       "</style>\n",
       "<table border=\"1\" class=\"dataframe\">\n",
       "  <thead>\n",
       "    <tr style=\"text-align: right;\">\n",
       "      <th></th>\n",
       "      <th>Student ID</th>\n",
       "      <th>student_name</th>\n",
       "      <th>gender</th>\n",
       "      <th>grade</th>\n",
       "      <th>school_name</th>\n",
       "      <th>reading_score</th>\n",
       "      <th>math_score</th>\n",
       "      <th>School ID</th>\n",
       "      <th>type</th>\n",
       "      <th>size</th>\n",
       "      <th>budget</th>\n",
       "    </tr>\n",
       "  </thead>\n",
       "  <tbody>\n",
       "    <tr>\n",
       "      <th>0</th>\n",
       "      <td>0</td>\n",
       "      <td>Paul Bradley</td>\n",
       "      <td>M</td>\n",
       "      <td>9th</td>\n",
       "      <td>Huang High School</td>\n",
       "      <td>66</td>\n",
       "      <td>79</td>\n",
       "      <td>0</td>\n",
       "      <td>District</td>\n",
       "      <td>2917</td>\n",
       "      <td>1910635</td>\n",
       "    </tr>\n",
       "    <tr>\n",
       "      <th>1</th>\n",
       "      <td>1</td>\n",
       "      <td>Victor Smith</td>\n",
       "      <td>M</td>\n",
       "      <td>12th</td>\n",
       "      <td>Huang High School</td>\n",
       "      <td>94</td>\n",
       "      <td>61</td>\n",
       "      <td>0</td>\n",
       "      <td>District</td>\n",
       "      <td>2917</td>\n",
       "      <td>1910635</td>\n",
       "    </tr>\n",
       "    <tr>\n",
       "      <th>2</th>\n",
       "      <td>2</td>\n",
       "      <td>Kevin Rodriguez</td>\n",
       "      <td>M</td>\n",
       "      <td>12th</td>\n",
       "      <td>Huang High School</td>\n",
       "      <td>90</td>\n",
       "      <td>60</td>\n",
       "      <td>0</td>\n",
       "      <td>District</td>\n",
       "      <td>2917</td>\n",
       "      <td>1910635</td>\n",
       "    </tr>\n",
       "    <tr>\n",
       "      <th>3</th>\n",
       "      <td>3</td>\n",
       "      <td>Dr. Richard Scott</td>\n",
       "      <td>M</td>\n",
       "      <td>12th</td>\n",
       "      <td>Huang High School</td>\n",
       "      <td>67</td>\n",
       "      <td>58</td>\n",
       "      <td>0</td>\n",
       "      <td>District</td>\n",
       "      <td>2917</td>\n",
       "      <td>1910635</td>\n",
       "    </tr>\n",
       "    <tr>\n",
       "      <th>4</th>\n",
       "      <td>4</td>\n",
       "      <td>Bonnie Ray</td>\n",
       "      <td>F</td>\n",
       "      <td>9th</td>\n",
       "      <td>Huang High School</td>\n",
       "      <td>97</td>\n",
       "      <td>84</td>\n",
       "      <td>0</td>\n",
       "      <td>District</td>\n",
       "      <td>2917</td>\n",
       "      <td>1910635</td>\n",
       "    </tr>\n",
       "  </tbody>\n",
       "</table>\n",
       "</div>"
      ],
      "text/plain": [
       "   Student ID       student_name gender grade        school_name  \\\n",
       "0           0       Paul Bradley      M   9th  Huang High School   \n",
       "1           1       Victor Smith      M  12th  Huang High School   \n",
       "2           2    Kevin Rodriguez      M  12th  Huang High School   \n",
       "3           3  Dr. Richard Scott      M  12th  Huang High School   \n",
       "4           4         Bonnie Ray      F   9th  Huang High School   \n",
       "\n",
       "   reading_score  math_score  School ID      type  size   budget  \n",
       "0             66          79          0  District  2917  1910635  \n",
       "1             94          61          0  District  2917  1910635  \n",
       "2             90          60          0  District  2917  1910635  \n",
       "3             67          58          0  District  2917  1910635  \n",
       "4             97          84          0  District  2917  1910635  "
      ]
     },
     "execution_count": 95,
     "metadata": {},
     "output_type": "execute_result"
    }
   ],
   "source": [
    "# Dependencies and Setup\n",
    "import pandas as pd\n",
    "from pathlib import Path\n",
    "\n",
    "# File to Load (Remember to Change These)\n",
    "schools_complete = Path(\"schools_complete.csv\")\n",
    "students_complete = Path(\"students_complete.csv\")\n",
    "\n",
    "# Read School and Student Data File and store into Pandas DataFrames\n",
    "schools_data = pd.read_csv(schools_complete)\n",
    "students_data = pd.read_csv(students_complete)\n",
    "\n",
    "# Combine the data into a single dataset.\n",
    "school_data_complete = pd.merge(students_data, schools_data, how=\"left\", on=[\"school_name\", \"school_name\"])\n",
    "school_data_complete.head()\n"
   ]
  },
  {
   "cell_type": "code",
   "execution_count": 96,
   "id": "c3d3c631-9cc5-40a3-9465-f141579fb23d",
   "metadata": {},
   "outputs": [
    {
     "name": "stdout",
     "output_type": "stream",
     "text": [
      "Number of unique schools: 15\n"
     ]
    }
   ],
   "source": [
    "num_unique_schools = school_data_complete['school_name'].nunique()\n",
    "print(\"Number of unique schools:\", num_unique_schools)"
   ]
  },
  {
   "cell_type": "code",
   "execution_count": 97,
   "id": "2294aa37-c2cf-4cf7-b151-f50044ef4f42",
   "metadata": {},
   "outputs": [
    {
     "name": "stdout",
     "output_type": "stream",
     "text": [
      "Total number of students: 39170\n"
     ]
    }
   ],
   "source": [
    "total_students = school_data_complete['student_name'].count()\n",
    "print(\"Total number of students:\", total_students)"
   ]
  },
  {
   "cell_type": "code",
   "execution_count": 98,
   "id": "da61cf6a-dc67-43a5-a73c-8736aef6b3d6",
   "metadata": {},
   "outputs": [
    {
     "name": "stdout",
     "output_type": "stream",
     "text": [
      "Total budget: 82932329558\n"
     ]
    }
   ],
   "source": [
    "budget = school_data_complete['budget'].sum()\n",
    "print(\"Total budget:\", budget)"
   ]
  },
  {
   "cell_type": "code",
   "execution_count": 99,
   "id": "1eb341b9-c74b-4174-8167-edc8458f68fd",
   "metadata": {},
   "outputs": [
    {
     "name": "stdout",
     "output_type": "stream",
     "text": [
      "Per student budget: 2117240.99\n"
     ]
    }
   ],
   "source": [
    "budget_p_student = budget/total_students\n",
    "budget_p_student = round(budget_p_student, 2)\n",
    "print(\"Per student budget:\" , budget_p_student)"
   ]
  },
  {
   "cell_type": "code",
   "execution_count": 100,
   "id": "fd65fa5e-d368-4f4f-a8c5-7d4b61b2a7e1",
   "metadata": {},
   "outputs": [
    {
     "name": "stdout",
     "output_type": "stream",
     "text": [
      "Average math score: 78.99\n"
     ]
    }
   ],
   "source": [
    "total_math = school_data_complete['math_score'].sum()\n",
    "ave_math = total_math/total_students\n",
    "ave_math = round(ave_math,2)\n",
    "print(\"Average math score:\",ave_math)"
   ]
  },
  {
   "cell_type": "code",
   "execution_count": 101,
   "id": "46577317-755a-43c0-9556-86049654802f",
   "metadata": {},
   "outputs": [
    {
     "name": "stdout",
     "output_type": "stream",
     "text": [
      "Average math score: 81.88\n"
     ]
    }
   ],
   "source": [
    "total_reading = school_data_complete['reading_score'].sum()\n",
    "ave_reading = total_reading/total_students\n",
    "ave_reading = round(ave_reading,2)\n",
    "print(\"Average math score:\",ave_reading)"
   ]
  },
  {
   "cell_type": "code",
   "execution_count": 102,
   "id": "b7de7d7d-05ff-4e1e-b064-e7a530edef6d",
   "metadata": {},
   "outputs": [
    {
     "name": "stdout",
     "output_type": "stream",
     "text": [
      "Percentage of students passing math: 0.72\n"
     ]
    }
   ],
   "source": [
    "pass_math = (school_data_complete['math_score'] > 70).sum()\n",
    "per_pass_math = pass_math / total_students\n",
    "per_pass_math = round(per_pass_math, 2)\n",
    "print(\"Percentage of students passing math:\", per_pass_math)"
   ]
  },
  {
   "cell_type": "code",
   "execution_count": 103,
   "id": "e0224607-861b-4db6-8ad9-f2a25e712921",
   "metadata": {},
   "outputs": [
    {
     "name": "stdout",
     "output_type": "stream",
     "text": [
      "Percentage of students passing reading: 0.83\n"
     ]
    }
   ],
   "source": [
    "pass_reading = (school_data_complete['reading_score'] > 70).sum()\n",
    "per_pass_reading = pass_reading / total_students\n",
    "per_pass_reading = round(per_pass_reading, 2)\n",
    "print(\"Percentage of students passing reading:\", per_pass_reading)"
   ]
  },
  {
   "cell_type": "code",
   "execution_count": 104,
   "id": "aac16e34-787e-4b56-ab04-94ce96c9975b",
   "metadata": {},
   "outputs": [
    {
     "name": "stdout",
     "output_type": "stream",
     "text": [
      "0.61\n"
     ]
    }
   ],
   "source": [
    "total_pass = ((school_data_complete['math_score'] > 70) & (school_data_complete['reading_score']>70)).sum()\n",
    "per_pass = total_pass/total_students\n",
    "per_pass = round(per_pass,2)\n",
    "print(per_pass)"
   ]
  },
  {
   "cell_type": "code",
   "execution_count": 105,
   "id": "f95d7db8-f950-48cf-890f-f58de2c11a77",
   "metadata": {},
   "outputs": [
    {
     "name": "stdout",
     "output_type": "stream",
     "text": [
      "   Total number of unique schools  Total students  Total budget  \\\n",
      "0                              15           39170   82932329558   \n",
      "\n",
      "   Average math score  Average reading score  % passing math  \\\n",
      "0               78.99                  81.88            0.72   \n",
      "\n",
      "   % passing reading  % overall passing  \n",
      "0               0.83               0.61  \n"
     ]
    }
   ],
   "source": [
    "district_summary = pd.DataFrame({'Total number of unique schools': [num_unique_schools],'Total students': [total_students],'Total budget': [budget],'Average math score': [ave_math],'Average reading score': [ave_reading],'% passing math': [per_pass_math],'% passing reading': [per_pass_reading],'% overall passing': [per_pass]})\n",
    "\n",
    "# Display the DataFrame\n",
    "print(district_summary)"
   ]
  },
  {
   "cell_type": "code",
   "execution_count": 106,
   "id": "faff7cc6-a0e7-473e-9df5-ecb958416289",
   "metadata": {},
   "outputs": [
    {
     "name": "stdout",
     "output_type": "stream",
     "text": [
      "                      School Type  size  Total Budget  Average Math Score  \\\n",
      "school_name                                                                 \n",
      "Bailey High School       District  4976       3124928           77.048432   \n",
      "Cabrera High School       Charter  1858       1081356           83.061895   \n",
      "Figueroa High School     District  2949       1884411           76.711767   \n",
      "Ford High School         District  2739       1763916           77.102592   \n",
      "Griffin High School       Charter  1468        917500           83.351499   \n",
      "Hernandez High School    District  4635       3022020           77.289752   \n",
      "Holden High School        Charter   427        248087           83.803279   \n",
      "Huang High School        District  2917       1910635           76.629414   \n",
      "Johnson High School      District  4761       3094650           77.072464   \n",
      "Pena High School          Charter   962        585858           83.839917   \n",
      "Rodriguez High School    District  3999       2547363           76.842711   \n",
      "Shelton High School       Charter  1761       1056600           83.359455   \n",
      "Thomas High School        Charter  1635       1043130           83.418349   \n",
      "Wilson High School        Charter  2283       1319574           83.274201   \n",
      "Wright High School        Charter  1800       1049400           83.682222   \n",
      "\n",
      "                       Average Reading Score  \n",
      "school_name                                   \n",
      "Bailey High School                 81.033963  \n",
      "Cabrera High School                83.975780  \n",
      "Figueroa High School               81.158020  \n",
      "Ford High School                   80.746258  \n",
      "Griffin High School                83.816757  \n",
      "Hernandez High School              80.934412  \n",
      "Holden High School                 83.814988  \n",
      "Huang High School                  81.182722  \n",
      "Johnson High School                80.966394  \n",
      "Pena High School                   84.044699  \n",
      "Rodriguez High School              80.744686  \n",
      "Shelton High School                83.725724  \n",
      "Thomas High School                 83.848930  \n",
      "Wilson High School                 83.989488  \n",
      "Wright High School                 83.955000  \n"
     ]
    }
   ],
   "source": [
    "schools_grouped = school_data_complete.groupby('school_name')\n",
    "school_sum = schools_grouped.agg({'type': 'first','size': 'count','budget': 'first','math_score': 'mean','reading_score': 'mean',})\n",
    "school_sum.rename(columns={'school_name': 'School Name', 'type': 'School Type', 'budget': 'Total Budget', 'math_score': 'Average Math Score', 'reading_score': 'Average Reading Score'}, inplace=True)\n",
    "print(school_sum)"
   ]
  },
  {
   "cell_type": "code",
   "execution_count": 107,
   "id": "2f21e67b-7c4e-4f89-8c76-c9905c55b65c",
   "metadata": {},
   "outputs": [
    {
     "name": "stdout",
     "output_type": "stream",
     "text": [
      "                      School Type  size  Total Budget  Average Math Score  \\\n",
      "school_name                                                                 \n",
      "Bailey High School       District  4976       3124928           77.048432   \n",
      "Cabrera High School       Charter  1858       1081356           83.061895   \n",
      "Figueroa High School     District  2949       1884411           76.711767   \n",
      "Ford High School         District  2739       1763916           77.102592   \n",
      "Griffin High School       Charter  1468        917500           83.351499   \n",
      "Hernandez High School    District  4635       3022020           77.289752   \n",
      "Holden High School        Charter   427        248087           83.803279   \n",
      "Huang High School        District  2917       1910635           76.629414   \n",
      "Johnson High School      District  4761       3094650           77.072464   \n",
      "Pena High School          Charter   962        585858           83.839917   \n",
      "Rodriguez High School    District  3999       2547363           76.842711   \n",
      "Shelton High School       Charter  1761       1056600           83.359455   \n",
      "Thomas High School        Charter  1635       1043130           83.418349   \n",
      "Wilson High School        Charter  2283       1319574           83.274201   \n",
      "Wright High School        Charter  1800       1049400           83.682222   \n",
      "\n",
      "                       Average Reading Score  % Passing Math  \\\n",
      "school_name                                                    \n",
      "Bailey High School                 81.033963       89.529743   \n",
      "Cabrera High School                83.975780      100.000000   \n",
      "Figueroa High School               81.158020       88.436758   \n",
      "Ford High School                   80.746258       89.302665   \n",
      "Griffin High School                83.816757      100.000000   \n",
      "Hernandez High School              80.934412       89.083064   \n",
      "Holden High School                 83.814988      100.000000   \n",
      "Huang High School                  81.182722       88.858416   \n",
      "Johnson High School                80.966394       89.182945   \n",
      "Pena High School                   84.044699      100.000000   \n",
      "Rodriguez High School              80.744686       88.547137   \n",
      "Shelton High School                83.725724      100.000000   \n",
      "Thomas High School                 83.848930      100.000000   \n",
      "Wilson High School                 83.989488      100.000000   \n",
      "Wright High School                 83.955000      100.000000   \n",
      "\n",
      "                       % Passing Reading  Passing Rates  \n",
      "school_name                                              \n",
      "Bailey High School                 100.0      89.529743  \n",
      "Cabrera High School                100.0     100.000000  \n",
      "Figueroa High School               100.0      88.436758  \n",
      "Ford High School                   100.0      89.302665  \n",
      "Griffin High School                100.0     100.000000  \n",
      "Hernandez High School              100.0      89.083064  \n",
      "Holden High School                 100.0     100.000000  \n",
      "Huang High School                  100.0      88.858416  \n",
      "Johnson High School                100.0      89.182945  \n",
      "Pena High School                   100.0     100.000000  \n",
      "Rodriguez High School              100.0      88.547137  \n",
      "Shelton High School                100.0     100.000000  \n",
      "Thomas High School                 100.0     100.000000  \n",
      "Wilson High School                 100.0     100.000000  \n",
      "Wright High School                 100.0     100.000000  \n"
     ]
    }
   ],
   "source": [
    "school_sum['% Passing Math'] = (school_data_complete[school_data_complete['math_score'] >= 60].groupby('school_name')['math_score'].count() / school_metrics['size']) * 100\n",
    "school_sum['% Passing Reading'] = (school_data_complete[school_data_complete['reading_score'] >= 60].groupby('school_name')['reading_score'].count() / school_metrics['size']) * 100\n",
    "school_sum['Passing Rates'] = (school_data_complete[(school_data_complete['math_score'] >= 60) & (school_data_complete['reading_score'] >= 60)].groupby('school_name')['math_score'].count() / school_metrics['size']) * 100\n",
    "\n",
    "# Display the DataFrame\n",
    "print(school_sum)"
   ]
  },
  {
   "cell_type": "code",
   "execution_count": 108,
   "id": "565ac092-4848-464c-99f3-3d558073dc6d",
   "metadata": {},
   "outputs": [
    {
     "data": {
      "text/html": [
       "<div>\n",
       "<style scoped>\n",
       "    .dataframe tbody tr th:only-of-type {\n",
       "        vertical-align: middle;\n",
       "    }\n",
       "\n",
       "    .dataframe tbody tr th {\n",
       "        vertical-align: top;\n",
       "    }\n",
       "\n",
       "    .dataframe thead th {\n",
       "        text-align: right;\n",
       "    }\n",
       "</style>\n",
       "<table border=\"1\" class=\"dataframe\">\n",
       "  <thead>\n",
       "    <tr style=\"text-align: right;\">\n",
       "      <th></th>\n",
       "      <th>School Type</th>\n",
       "      <th>size</th>\n",
       "      <th>Total Budget</th>\n",
       "      <th>Average Math Score</th>\n",
       "      <th>Average Reading Score</th>\n",
       "      <th>% Passing Math</th>\n",
       "      <th>% Passing Reading</th>\n",
       "      <th>Passing Rates</th>\n",
       "    </tr>\n",
       "    <tr>\n",
       "      <th>school_name</th>\n",
       "      <th></th>\n",
       "      <th></th>\n",
       "      <th></th>\n",
       "      <th></th>\n",
       "      <th></th>\n",
       "      <th></th>\n",
       "      <th></th>\n",
       "      <th></th>\n",
       "    </tr>\n",
       "  </thead>\n",
       "  <tbody>\n",
       "    <tr>\n",
       "      <th>Cabrera High School</th>\n",
       "      <td>Charter</td>\n",
       "      <td>1858</td>\n",
       "      <td>1081356</td>\n",
       "      <td>83.061895</td>\n",
       "      <td>83.975780</td>\n",
       "      <td>100.0</td>\n",
       "      <td>100.0</td>\n",
       "      <td>100.0</td>\n",
       "    </tr>\n",
       "    <tr>\n",
       "      <th>Griffin High School</th>\n",
       "      <td>Charter</td>\n",
       "      <td>1468</td>\n",
       "      <td>917500</td>\n",
       "      <td>83.351499</td>\n",
       "      <td>83.816757</td>\n",
       "      <td>100.0</td>\n",
       "      <td>100.0</td>\n",
       "      <td>100.0</td>\n",
       "    </tr>\n",
       "    <tr>\n",
       "      <th>Holden High School</th>\n",
       "      <td>Charter</td>\n",
       "      <td>427</td>\n",
       "      <td>248087</td>\n",
       "      <td>83.803279</td>\n",
       "      <td>83.814988</td>\n",
       "      <td>100.0</td>\n",
       "      <td>100.0</td>\n",
       "      <td>100.0</td>\n",
       "    </tr>\n",
       "    <tr>\n",
       "      <th>Pena High School</th>\n",
       "      <td>Charter</td>\n",
       "      <td>962</td>\n",
       "      <td>585858</td>\n",
       "      <td>83.839917</td>\n",
       "      <td>84.044699</td>\n",
       "      <td>100.0</td>\n",
       "      <td>100.0</td>\n",
       "      <td>100.0</td>\n",
       "    </tr>\n",
       "    <tr>\n",
       "      <th>Shelton High School</th>\n",
       "      <td>Charter</td>\n",
       "      <td>1761</td>\n",
       "      <td>1056600</td>\n",
       "      <td>83.359455</td>\n",
       "      <td>83.725724</td>\n",
       "      <td>100.0</td>\n",
       "      <td>100.0</td>\n",
       "      <td>100.0</td>\n",
       "    </tr>\n",
       "  </tbody>\n",
       "</table>\n",
       "</div>"
      ],
      "text/plain": [
       "                    School Type  size  Total Budget  Average Math Score  \\\n",
       "school_name                                                               \n",
       "Cabrera High School     Charter  1858       1081356           83.061895   \n",
       "Griffin High School     Charter  1468        917500           83.351499   \n",
       "Holden High School      Charter   427        248087           83.803279   \n",
       "Pena High School        Charter   962        585858           83.839917   \n",
       "Shelton High School     Charter  1761       1056600           83.359455   \n",
       "\n",
       "                     Average Reading Score  % Passing Math  % Passing Reading  \\\n",
       "school_name                                                                     \n",
       "Cabrera High School              83.975780           100.0              100.0   \n",
       "Griffin High School              83.816757           100.0              100.0   \n",
       "Holden High School               83.814988           100.0              100.0   \n",
       "Pena High School                 84.044699           100.0              100.0   \n",
       "Shelton High School              83.725724           100.0              100.0   \n",
       "\n",
       "                     Passing Rates  \n",
       "school_name                         \n",
       "Cabrera High School          100.0  \n",
       "Griffin High School          100.0  \n",
       "Holden High School           100.0  \n",
       "Pena High School             100.0  \n",
       "Shelton High School          100.0  "
      ]
     },
     "execution_count": 108,
     "metadata": {},
     "output_type": "execute_result"
    }
   ],
   "source": [
    "top_schools = school_sum.sort_values('Passing Rates',ascending = False)\n",
    "top_schools.head()"
   ]
  },
  {
   "cell_type": "code",
   "execution_count": 109,
   "id": "0359ff54-b7d8-498a-98be-20be3fb2297c",
   "metadata": {},
   "outputs": [
    {
     "data": {
      "text/html": [
       "<div>\n",
       "<style scoped>\n",
       "    .dataframe tbody tr th:only-of-type {\n",
       "        vertical-align: middle;\n",
       "    }\n",
       "\n",
       "    .dataframe tbody tr th {\n",
       "        vertical-align: top;\n",
       "    }\n",
       "\n",
       "    .dataframe thead th {\n",
       "        text-align: right;\n",
       "    }\n",
       "</style>\n",
       "<table border=\"1\" class=\"dataframe\">\n",
       "  <thead>\n",
       "    <tr style=\"text-align: right;\">\n",
       "      <th></th>\n",
       "      <th>School Type</th>\n",
       "      <th>size</th>\n",
       "      <th>Total Budget</th>\n",
       "      <th>Average Math Score</th>\n",
       "      <th>Average Reading Score</th>\n",
       "      <th>% Passing Math</th>\n",
       "      <th>% Passing Reading</th>\n",
       "      <th>Passing Rates</th>\n",
       "    </tr>\n",
       "    <tr>\n",
       "      <th>school_name</th>\n",
       "      <th></th>\n",
       "      <th></th>\n",
       "      <th></th>\n",
       "      <th></th>\n",
       "      <th></th>\n",
       "      <th></th>\n",
       "      <th></th>\n",
       "      <th></th>\n",
       "    </tr>\n",
       "  </thead>\n",
       "  <tbody>\n",
       "    <tr>\n",
       "      <th>Figueroa High School</th>\n",
       "      <td>District</td>\n",
       "      <td>2949</td>\n",
       "      <td>1884411</td>\n",
       "      <td>76.711767</td>\n",
       "      <td>81.158020</td>\n",
       "      <td>88.436758</td>\n",
       "      <td>100.0</td>\n",
       "      <td>88.436758</td>\n",
       "    </tr>\n",
       "    <tr>\n",
       "      <th>Rodriguez High School</th>\n",
       "      <td>District</td>\n",
       "      <td>3999</td>\n",
       "      <td>2547363</td>\n",
       "      <td>76.842711</td>\n",
       "      <td>80.744686</td>\n",
       "      <td>88.547137</td>\n",
       "      <td>100.0</td>\n",
       "      <td>88.547137</td>\n",
       "    </tr>\n",
       "    <tr>\n",
       "      <th>Huang High School</th>\n",
       "      <td>District</td>\n",
       "      <td>2917</td>\n",
       "      <td>1910635</td>\n",
       "      <td>76.629414</td>\n",
       "      <td>81.182722</td>\n",
       "      <td>88.858416</td>\n",
       "      <td>100.0</td>\n",
       "      <td>88.858416</td>\n",
       "    </tr>\n",
       "    <tr>\n",
       "      <th>Hernandez High School</th>\n",
       "      <td>District</td>\n",
       "      <td>4635</td>\n",
       "      <td>3022020</td>\n",
       "      <td>77.289752</td>\n",
       "      <td>80.934412</td>\n",
       "      <td>89.083064</td>\n",
       "      <td>100.0</td>\n",
       "      <td>89.083064</td>\n",
       "    </tr>\n",
       "    <tr>\n",
       "      <th>Johnson High School</th>\n",
       "      <td>District</td>\n",
       "      <td>4761</td>\n",
       "      <td>3094650</td>\n",
       "      <td>77.072464</td>\n",
       "      <td>80.966394</td>\n",
       "      <td>89.182945</td>\n",
       "      <td>100.0</td>\n",
       "      <td>89.182945</td>\n",
       "    </tr>\n",
       "  </tbody>\n",
       "</table>\n",
       "</div>"
      ],
      "text/plain": [
       "                      School Type  size  Total Budget  Average Math Score  \\\n",
       "school_name                                                                 \n",
       "Figueroa High School     District  2949       1884411           76.711767   \n",
       "Rodriguez High School    District  3999       2547363           76.842711   \n",
       "Huang High School        District  2917       1910635           76.629414   \n",
       "Hernandez High School    District  4635       3022020           77.289752   \n",
       "Johnson High School      District  4761       3094650           77.072464   \n",
       "\n",
       "                       Average Reading Score  % Passing Math  \\\n",
       "school_name                                                    \n",
       "Figueroa High School               81.158020       88.436758   \n",
       "Rodriguez High School              80.744686       88.547137   \n",
       "Huang High School                  81.182722       88.858416   \n",
       "Hernandez High School              80.934412       89.083064   \n",
       "Johnson High School                80.966394       89.182945   \n",
       "\n",
       "                       % Passing Reading  Passing Rates  \n",
       "school_name                                              \n",
       "Figueroa High School               100.0      88.436758  \n",
       "Rodriguez High School              100.0      88.547137  \n",
       "Huang High School                  100.0      88.858416  \n",
       "Hernandez High School              100.0      89.083064  \n",
       "Johnson High School                100.0      89.182945  "
      ]
     },
     "execution_count": 109,
     "metadata": {},
     "output_type": "execute_result"
    }
   ],
   "source": [
    "bottom_schools = school_sum.sort_values('Passing Rates',ascending = True)\n",
    "bottom_schools.head()"
   ]
  },
  {
   "cell_type": "code",
   "execution_count": 110,
   "id": "7ded75d5-9c0f-4e8f-9d7b-f51171910d6c",
   "metadata": {},
   "outputs": [
    {
     "name": "stdout",
     "output_type": "stream",
     "text": [
      "grade\n",
      "10th    78.941483\n",
      "11th    79.083548\n",
      "12th    78.993164\n",
      "9th     78.935659\n",
      "Name: math_score, dtype: float64\n"
     ]
    }
   ],
   "source": [
    "grades_grouped = school_data_complete.groupby('grade')\n",
    "math_grade = grades_grouped['math_score'].mean()\n",
    "print(math_grade)"
   ]
  },
  {
   "cell_type": "code",
   "execution_count": 111,
   "id": "9632c697-0ce7-40fa-8aeb-7fbe67f172b7",
   "metadata": {},
   "outputs": [
    {
     "name": "stdout",
     "output_type": "stream",
     "text": [
      "grade\n",
      "10th    81.874410\n",
      "11th    81.885714\n",
      "12th    81.819851\n",
      "9th     81.914358\n",
      "Name: reading_score, dtype: float64\n"
     ]
    }
   ],
   "source": [
    "grades_grouped = school_data_complete.groupby('grade')\n",
    "reading_grade = grades_grouped['reading_score'].mean()\n",
    "print(reading_grade)"
   ]
  },
  {
   "cell_type": "code",
   "execution_count": 112,
   "id": "21e52f86-604c-4d94-9255-8f0f675e9a06",
   "metadata": {},
   "outputs": [
    {
     "name": "stdout",
     "output_type": "stream",
     "text": [
      "       Student ID       student_name gender grade         school_name  \\\n",
      "0               0       Paul Bradley      M   9th   Huang High School   \n",
      "1               1       Victor Smith      M  12th   Huang High School   \n",
      "2               2    Kevin Rodriguez      M  12th   Huang High School   \n",
      "3               3  Dr. Richard Scott      M  12th   Huang High School   \n",
      "4               4         Bonnie Ray      F   9th   Huang High School   \n",
      "...           ...                ...    ...   ...                 ...   \n",
      "39165       39165       Donna Howard      F  12th  Thomas High School   \n",
      "39166       39166          Dawn Bell      F  10th  Thomas High School   \n",
      "39167       39167     Rebecca Tanner      F   9th  Thomas High School   \n",
      "39168       39168       Desiree Kidd      F  10th  Thomas High School   \n",
      "39169       39169    Carolyn Jackson      F  11th  Thomas High School   \n",
      "\n",
      "       reading_score  math_score  School ID      type  size   budget  \\\n",
      "0                 66          79          0  District  2917  1910635   \n",
      "1                 94          61          0  District  2917  1910635   \n",
      "2                 90          60          0  District  2917  1910635   \n",
      "3                 67          58          0  District  2917  1910635   \n",
      "4                 97          84          0  District  2917  1910635   \n",
      "...              ...         ...        ...       ...   ...      ...   \n",
      "39165             99          90         14   Charter  1635  1043130   \n",
      "39166             95          70         14   Charter  1635  1043130   \n",
      "39167             73          84         14   Charter  1635  1043130   \n",
      "39168             99          90         14   Charter  1635  1043130   \n",
      "39169             95          75         14   Charter  1635  1043130   \n",
      "\n",
      "      Price Per Student  \n",
      "0              $645-680  \n",
      "1              $645-680  \n",
      "2              $645-680  \n",
      "3              $645-680  \n",
      "4              $645-680  \n",
      "...                 ...  \n",
      "39165          $630-645  \n",
      "39166          $630-645  \n",
      "39167          $630-645  \n",
      "39168          $630-645  \n",
      "39169          $630-645  \n",
      "\n",
      "[39170 rows x 12 columns]\n"
     ]
    }
   ],
   "source": [
    "spending_bins = [0, 585, 630, 645, 680]\n",
    "labels = [\"<$585\", \"$585-630\", \"$630-645\", \"$645-680\"]\n",
    "\n",
    "school_data_complete['Price Per Student'] = pd.cut(school_data_complete['budget'] / school_data_complete['size'], bins=spending_bins, labels=labels)\n",
    "\n",
    "\n",
    "# Display the DataFrame with the new column\n",
    "print(school_data_complete)"
   ]
  },
  {
   "cell_type": "code",
   "execution_count": 113,
   "id": "a46429f8-7581-43b1-8610-5c40e4123f31",
   "metadata": {},
   "outputs": [
    {
     "name": "stdout",
     "output_type": "stream",
     "text": [
      "                   math_score  reading_score\n",
      "Price Per Student                           \n",
      "<$585               83.363065      83.964039\n",
      "$585-630            79.982873      82.312643\n",
      "$630-645            77.821056      81.301007\n",
      "$645-680            77.049297      81.005604\n"
     ]
    },
    {
     "name": "stderr",
     "output_type": "stream",
     "text": [
      "/var/folders/jm/t7jllmhd2j77h5q0s_1ypxp80000gp/T/ipykernel_48627/3029877630.py:1: FutureWarning: The default of observed=False is deprecated and will be changed to True in a future version of pandas. Pass observed=False to retain current behavior or observed=True to adopt the future default and silence this warning.\n",
      "  grouped_by_spending = school_data_complete.groupby('Price Per Student')\n"
     ]
    }
   ],
   "source": [
    "grouped_by_spending = school_data_complete.groupby('Price Per Student')\n",
    "\n",
    "# Calculate the mean of 'math_score' and 'reading_score' for each spending range\n",
    "spending_summary = grouped_by_spending[['math_score', 'reading_score']].mean()\n",
    "\n",
    "# Display the DataFrame with the average scores by spending range\n",
    "print(spending_summary)"
   ]
  },
  {
   "cell_type": "code",
   "execution_count": 114,
   "id": "cba99d68-7ec1-459c-951c-fb1cebaab692",
   "metadata": {},
   "outputs": [
    {
     "name": "stdout",
     "output_type": "stream",
     "text": [
      "                   math_score  reading_score\n",
      "Price Per Student                           \n",
      "<$585               83.363065      83.964039\n",
      "$585-630            79.982873      82.312643\n",
      "$630-645            77.821056      81.301007\n",
      "$645-680            77.049297      81.005604\n"
     ]
    },
    {
     "name": "stderr",
     "output_type": "stream",
     "text": [
      "/var/folders/jm/t7jllmhd2j77h5q0s_1ypxp80000gp/T/ipykernel_48627/2870522681.py:5: FutureWarning: The default of observed=False is deprecated and will be changed to True in a future version of pandas. Pass observed=False to retain current behavior or observed=True to adopt the future default and silence this warning.\n",
      "  grouped_by_size = school_data_complete.groupby('Price Per Student')\n"
     ]
    }
   ],
   "source": [
    "size_bins = [0, 1000, 2000, 5000]\n",
    "labels = [\"Small (<1000)\", \"Medium (1000-2000)\", \"Large (2000-5000)\"]\n",
    "\n",
    "school_data_complete['size'] = pd.cut(school_data_complete['budget'] / school_data_complete['size'], bins=size_bins, labels=labels)\n",
    "grouped_by_size = school_data_complete.groupby('Price Per Student')\n",
    "\n",
    "# Calculate the mean of 'math_score' and 'reading_score' for each spending range\n",
    "size_summary = grouped_by_size[['math_score', 'reading_score']].mean()\n",
    "\n",
    "# Display the DataFrame with the average scores by spending range\n",
    "print(spending_summary)"
   ]
  },
  {
   "cell_type": "code",
   "execution_count": 115,
   "id": "1a7fdedd-7932-4d29-8956-447bb21a0aca",
   "metadata": {},
   "outputs": [],
   "source": [
    "types_grouped = school_data_complete.groupby('type')\n",
    "type_sum = types_grouped.agg({'type': 'first','size': 'count','budget': 'first','math_score': 'mean','reading_score':'mean'})\n",
    "type_sum.rename(columns={'school_name': 'School Name', 'type': 'School Type', 'budget': 'Total Budget', 'math_score': 'Average Math Score', 'reading_score': 'Average Reading Score'}, inplace=True)"
   ]
  },
  {
   "cell_type": "code",
   "execution_count": 117,
   "id": "0c6c110b-b217-47c0-8cbf-4082fe21c2e0",
   "metadata": {},
   "outputs": [
    {
     "name": "stdout",
     "output_type": "stream",
     "text": [
      "         School Type   size  Total Budget  Average Math Score  \\\n",
      "type                                                            \n",
      "Charter      Charter  12194       1056600           83.406183   \n",
      "District    District  26976       1910635           76.987026   \n",
      "\n",
      "          Average Reading Score  % Passing Math  % Passing Reading  \\\n",
      "type                                                                 \n",
      "Charter               83.902821       93.701821          96.645891   \n",
      "District              80.962485       66.518387          80.905249   \n",
      "\n",
      "          Passing Rates  \n",
      "type                     \n",
      "Charter       90.560932  \n",
      "District      53.695878  \n"
     ]
    }
   ],
   "source": [
    "type_sum['% Passing Math'] = (school_data_complete[school_data_complete['math_score'] >= 70].groupby('type')['math_score'].count() / type_sum['size']) * 100\n",
    "type_sum['% Passing Reading'] = (school_data_complete[school_data_complete['reading_score'] >= 70].groupby('type')['reading_score'].count() / type_sum['size']) * 100\n",
    "type_sum['Passing Rates'] = (school_data_complete[(school_data_complete['math_score'] >= 70) & (school_data_complete['reading_score'] >= 70)].groupby('type')['math_score'].count() / type_sum['size']) * 100\n",
    "print(type_sum)"
   ]
  },
  {
   "cell_type": "code",
   "execution_count": null,
   "id": "0f76679d-afb5-4e7a-9a69-0fceaf025fa0",
   "metadata": {},
   "outputs": [],
   "source": []
  }
 ],
 "metadata": {
  "kernelspec": {
   "display_name": "Python 3 (ipykernel)",
   "language": "python",
   "name": "python3"
  },
  "language_info": {
   "codemirror_mode": {
    "name": "ipython",
    "version": 3
   },
   "file_extension": ".py",
   "mimetype": "text/x-python",
   "name": "python",
   "nbconvert_exporter": "python",
   "pygments_lexer": "ipython3",
   "version": "3.12.2"
  }
 },
 "nbformat": 4,
 "nbformat_minor": 5
}
